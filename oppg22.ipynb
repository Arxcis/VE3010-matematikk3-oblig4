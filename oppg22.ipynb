{
 "cells": [
  {
   "cell_type": "markdown",
   "metadata": {},
   "source": [
    "## Exercise 22a)\n",
    "\n",
    "To get the mass M integrate:\n",
    "$$\n",
    "M = \\int \\int \\delta(x,y)dxdy\n",
    "$$\n",
    "\n",
    "Where the density-function is given by: \n",
    "$$\n",
    "\\delta(x,y) = \\ln(1+x^2+y^2sin^4(x))\n",
    "$$"
   ]
  },
  {
   "cell_type": "code",
   "execution_count": 20,
   "metadata": {},
   "outputs": [
    {
     "name": "stdout",
     "output_type": "stream",
     "text": [
      "Integral -> 88.9963 [kg]\n"
     ]
    }
   ],
   "source": [
    "from numpy import linspace, meshgrid, array, log, sin \n",
    "\n",
    "def simpson2d(x_range, y_range, func, n=100):\n",
    "    a, b = x_range\n",
    "    c, d = y_range\n",
    "    Delta_x = (b-a)/n\n",
    "    Delta_y = (d-c)/n\n",
    "\n",
    "    x = linspace(a, b, n + 1)\n",
    "    y = linspace(c, d, n + 1)\n",
    "\n",
    "    x, y = meshgrid(x, y)\n",
    "    F = func(x, y)\n",
    "\n",
    "    lst = [1] + [2 if i % 2 == 0 else 4 for i in range(1,n)] + [1]\n",
    "\n",
    "    g = array(lst, dtype = int)\n",
    "\n",
    "    return (Delta_x*Delta_y/9) * g.dot(F).dot(g.T)\n",
    "\n",
    "\n",
    "result = simpson2d(\n",
    "    x_range = [0,6], \n",
    "    y_range = [0,6],\n",
    "    func = lambda x, y: log(1 + x**2 + (y**2)*(sin(x)**4))\n",
    ")\n",
    "\n",
    "print(f\"Integral -> {result:.4f} [kg]\")\n"
   ]
  },
  {
   "cell_type": "markdown",
   "metadata": {},
   "source": [
    "## Exercise 22b)\n",
    "\n",
    "Given a new density function:\n",
    "$$\n",
    "\\delta(\\rho, \\theta) = ln(1 + \\rho\\cos(\\theta)^2 + \\rho\\sin(\\theta)^2\\sin(\\rho\\cos(\\theta))^4)\n",
    "$$\n",
    "\n",
    "Where $\\rho$ ranges between:\n",
    "$$\n",
    "\\rho \\in [e^{-3}, e^{-1/5}]\n",
    "$$\n",
    "and $\\theta$ ranges between:\n",
    "$$\n",
    "\\theta \\in \\left[\\frac{7\\pi}{19}, \\frac{9\\pi}{11}\\right]\n",
    "$$\n",
    "\n",
    "What is the new integral?"
   ]
  },
  {
   "cell_type": "code",
   "execution_count": null,
   "metadata": {},
   "outputs": [
    {
     "name": "stdout",
     "output_type": "stream",
     "text": [
      "Integral -> 0.0909 [kg]\n"
     ]
    }
   ],
   "source": [
    "from numpy import cos, sin, pi, e\n",
    "\n",
    "result = simpson2d(\n",
    "    x_range = [e**(-3),e**(-1/5)], \n",
    "    y_range = [(7*pi)/(19), (9*pi)/(11)],\n",
    "    func = lambda r, t: log(1 + r*cos(t)**2 + (r*sin(t)**2)*(sin(r*cos(t))**4))\n",
    ")\n",
    "\n",
    "print(f\"Integral -> {result:.4f} [kg]\")"
   ]
  }
 ],
 "metadata": {
  "kernelspec": {
   "display_name": "Python 3",
   "language": "python",
   "name": "python3"
  },
  "language_info": {
   "codemirror_mode": {
    "name": "ipython",
    "version": 3
   },
   "file_extension": ".py",
   "mimetype": "text/x-python",
   "name": "python",
   "nbconvert_exporter": "python",
   "pygments_lexer": "ipython3",
   "version": "3.12.1"
  }
 },
 "nbformat": 4,
 "nbformat_minor": 2
}
